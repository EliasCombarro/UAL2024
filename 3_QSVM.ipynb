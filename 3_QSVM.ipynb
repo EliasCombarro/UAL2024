{
  "cells": [
    {
      "cell_type": "markdown",
      "id": "398a1114",
      "metadata": {
        "id": "398a1114"
      },
      "source": [
        "# 3 - QSVM"
      ]
    },
    {
      "cell_type": "code",
      "execution_count": null,
      "id": "2e9d0203",
      "metadata": {
        "id": "2e9d0203"
      },
      "outputs": [],
      "source": [
        "pip install pennylane==0.26"
      ]
    },
    {
      "cell_type": "code",
      "execution_count": null,
      "id": "6d229d9c",
      "metadata": {
        "id": "6d229d9c"
      },
      "outputs": [],
      "source": [
        "import numpy as np\n",
        "\n",
        "seed = 1234\n",
        "np.random.seed(seed)"
      ]
    },
    {
      "cell_type": "code",
      "execution_count": null,
      "id": "146e2244",
      "metadata": {
        "id": "146e2244"
      },
      "outputs": [],
      "source": [
        "from sklearn.datasets import load_wine\n",
        "\n",
        "x,y = load_wine(return_X_y = True)"
      ]
    },
    {
      "cell_type": "code",
      "execution_count": null,
      "id": "23834185",
      "metadata": {
        "id": "23834185"
      },
      "outputs": [],
      "source": [
        "x = x[:59+71]\n",
        "y = y[:59+71]"
      ]
    },
    {
      "cell_type": "code",
      "execution_count": null,
      "id": "e189199b",
      "metadata": {
        "id": "e189199b"
      },
      "outputs": [],
      "source": [
        "from sklearn.model_selection import train_test_split\n",
        "\n",
        "x_tr, x_test, y_tr, y_test = train_test_split(x, y, train_size = 0.9)"
      ]
    },
    {
      "cell_type": "code",
      "execution_count": null,
      "id": "56a1e1d4",
      "metadata": {
        "id": "56a1e1d4"
      },
      "outputs": [],
      "source": [
        "from sklearn.preprocessing import MaxAbsScaler\n",
        "\n",
        "scaler = MaxAbsScaler()\n",
        "x_tr = scaler.fit_transform(x_tr)"
      ]
    },
    {
      "cell_type": "code",
      "execution_count": null,
      "id": "e6ec7bf5",
      "metadata": {
        "id": "e6ec7bf5"
      },
      "outputs": [],
      "source": [
        "x_test = scaler.transform(x_test)\n",
        "print(x_test)\n",
        "x_test = np.clip(x_test,-1,1)\n",
        "print(x_test)"
      ]
    },
    {
      "cell_type": "code",
      "execution_count": null,
      "id": "7a28e035",
      "metadata": {
        "id": "7a28e035"
      },
      "outputs": [],
      "source": [
        "import pennylane as qml\n",
        "\n",
        "nqubits = 4\n",
        "dev = qml.device(\"lightning.qubit\", wires = nqubits)\n",
        "\n",
        "@qml.qnode(dev)\n",
        "def kernel_circ(a, b):\n",
        "    qml.AmplitudeEmbedding(\n",
        "        a, wires=range(nqubits), pad_with=0, normalize=True)\n",
        "    qml.adjoint(qml.AmplitudeEmbedding(\n",
        "        b, wires=range(nqubits), pad_with=0, normalize=True))\n",
        "    return qml.probs(wires = range(nqubits))"
      ]
    },
    {
      "cell_type": "code",
      "execution_count": null,
      "id": "50f14380",
      "metadata": {
        "id": "50f14380"
      },
      "outputs": [],
      "source": [
        "from sklearn.svm import SVC\n",
        "def qkernel(A, B):\n",
        "    return np.array([[kernel_circ(a, b)[0] for b in B] for a in A])\n",
        "\n",
        "svm = SVC(kernel = qkernel).fit(x_tr, y_tr)"
      ]
    },
    {
      "cell_type": "code",
      "execution_count": null,
      "id": "8688dcaf",
      "metadata": {
        "id": "8688dcaf"
      },
      "outputs": [],
      "source": [
        "from sklearn.metrics import accuracy_score\n",
        "\n",
        "print(accuracy_score(svm.predict(x_test), y_test))"
      ]
    },
    {
      "cell_type": "code",
      "execution_count": null,
      "id": "d45ce737",
      "metadata": {
        "id": "d45ce737"
      },
      "outputs": [],
      "source": [
        "from sklearn.decomposition import PCA\n",
        "\n",
        "pca = PCA(n_components = 8)\n",
        "\n",
        "xs_tr = pca.fit_transform(x_tr)\n",
        "xs_test = pca.transform(x_test)"
      ]
    },
    {
      "cell_type": "code",
      "execution_count": null,
      "id": "10b581a8",
      "metadata": {
        "id": "10b581a8"
      },
      "outputs": [],
      "source": [
        "nqubits = 8\n",
        "dev = qml.device(\"lightning.qubit\", wires=nqubits)\n",
        "\n",
        "@qml.qnode(dev)\n",
        "def kernel_circ(a, b):\n",
        "    qml.AngleEmbedding(a, wires=range(nqubits))\n",
        "    qml.adjoint(qml.AngleEmbedding(b, wires=range(nqubits)))\n",
        "    return qml.probs(wires = range(nqubits))"
      ]
    },
    {
      "cell_type": "code",
      "execution_count": null,
      "id": "9a78dad1",
      "metadata": {
        "id": "9a78dad1"
      },
      "outputs": [],
      "source": [
        "svm = SVC(kernel = qkernel).fit(xs_tr, y_tr)\n",
        "\n",
        "print(accuracy_score(svm.predict(xs_test), y_test))"
      ]
    },
    {
      "cell_type": "code",
      "execution_count": null,
      "id": "b314c107",
      "metadata": {
        "id": "b314c107"
      },
      "outputs": [],
      "source": [
        "from itertools import combinations\n",
        "\n",
        "def ZZFeatureMap(nqubits, data):\n",
        "\n",
        "    # Number of variables that we will load:\n",
        "    # could be smaller than the number of qubits.\n",
        "    nload = min(len(data), nqubits)\n",
        "\n",
        "    for i in range(nload):\n",
        "        qml.Hadamard(i)\n",
        "        qml.RZ(2.0 * data[i], wires = i)\n",
        "\n",
        "    for pair in list(combinations(range(nload), 2)):\n",
        "        q0 = pair[0]\n",
        "        q1 = pair[1]\n",
        "\n",
        "        qml.CZ(wires = [q0, q1])\n",
        "        qml.RZ(2.0 * (np.pi - data[q0]) *\n",
        "            (np.pi - data[q1]), wires = q1)\n",
        "        qml.CZ(wires = [q0, q1])"
      ]
    },
    {
      "cell_type": "code",
      "execution_count": null,
      "id": "eb92983b",
      "metadata": {
        "id": "eb92983b"
      },
      "outputs": [],
      "source": [
        "nqubits = 4\n",
        "dev = qml.device(\"lightning.qubit\", wires = nqubits)\n",
        "\n",
        "@qml.qnode(dev)\n",
        "def kernel_circ(a, b):\n",
        "    ZZFeatureMap(nqubits, a)\n",
        "    qml.adjoint(ZZFeatureMap)(nqubits, b)\n",
        "    return qml.probs(wires = range(nqubits))\n",
        "\n",
        "svm = SVC(kernel=qkernel).fit(xs_tr, y_tr)\n",
        "print(accuracy_score(svm.predict(xs_test), y_test))"
      ]
    }
  ],
  "metadata": {
    "kernelspec": {
      "display_name": "Python 3 (ipykernel)",
      "language": "python",
      "name": "python3"
    },
    "language_info": {
      "codemirror_mode": {
        "name": "ipython",
        "version": 3
      },
      "file_extension": ".py",
      "mimetype": "text/x-python",
      "name": "python",
      "nbconvert_exporter": "python",
      "pygments_lexer": "ipython3",
      "version": "3.10.8"
    },
    "colab": {
      "provenance": []
    }
  },
  "nbformat": 4,
  "nbformat_minor": 5
}